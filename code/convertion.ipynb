{
 "cells": [
  {
   "cell_type": "code",
   "execution_count": 11,
   "id": "c6c4b275-ed73-461e-9bed-0ec4017160e1",
   "metadata": {},
   "outputs": [],
   "source": [
    "import SimpleITK as sitk\n",
    "import os\n",
    "import time\n",
    "from glob import glob\n",
    "\n",
    "\n",
    "def writeSlices(series_tag_values, new_img, i, out_dir):\n",
    "    image_slice = new_img[:,:,i]\n",
    "    writer = sitk.ImageFileWriter()\n",
    "    writer.KeepOriginalImageUIDOn()\n",
    "\n",
    "    # Tags shared by the series.\n",
    "    list(map(lambda tag_value: image_slice.SetMetaData(tag_value[0], tag_value[1]), series_tag_values))\n",
    "\n",
    "    # Slice specific tags.\n",
    "    image_slice.SetMetaData(\"0008|0012\", time.strftime(\"%Y%m%d\")) # Instance Creation Date\n",
    "    image_slice.SetMetaData(\"0008|0013\", time.strftime(\"%H%M%S\")) # Instance Creation Time\n",
    "\n",
    "    # Setting the type to CT preserves the slice location.\n",
    "    image_slice.SetMetaData(\"0008|0060\", \"CT\")  # set the type to CT so the thickness is carried over\n",
    "\n",
    "    # (0020, 0032) image position patient determines the 3D spacing between slices.\n",
    "    image_slice.SetMetaData(\"0020|0032\", '\\\\'.join(map(str,new_img.TransformIndexToPhysicalPoint((0,0,i))))) # Image Position (Patient)\n",
    "    image_slice.SetMetaData(\"0020|0013\", str(i)) # Instance Number\n",
    "\n",
    "    # Write to the output directory and add the extension dcm, to force writing in DICOM format.\n",
    "    writer.SetFileName(os.path.join(out_dir,'slice' + str(i).zfill(4) + '.dcm'))\n",
    "    writer.Execute(image_slice)\n",
    "\n",
    "\n",
    "def nifti2dicom_1file(in_dir, out_dir):\n",
    "    \"\"\"\n",
    "    This function is to convert only one nifti file into dicom series\n",
    "\n",
    "    `nifti_dir`: the path to the one nifti file\n",
    "    `out_dir`: the path to output\n",
    "    \"\"\"\n",
    "\n",
    "    os.makedirs(out_dir, exist_ok=True)\n",
    "\n",
    "    new_img = sitk.ReadImage(in_dir) \n",
    "    modification_time = time.strftime(\"%H%M%S\")\n",
    "    modification_date = time.strftime(\"%Y%m%d\")\n",
    "\n",
    "    direction = new_img.GetDirection()\n",
    "    series_tag_values = [(\"0008|0031\",modification_time), # Series Time\n",
    "                    (\"0008|0021\",modification_date), # Series Date\n",
    "                    (\"0008|0008\",\"DERIVED\\\\SECONDARY\"), # Image Type\n",
    "                    (\"0020|000e\", \"1.2.826.0.1.3680043.2.1125.\"+modification_date+\".1\"+modification_time), # Series Instance UID\n",
    "                    (\"0020|000d\", \"1.2.826.0.1.3680043.2.1125.1\"+modification_date+modification_time), # Study Instance UID\n",
    "                    (\"0020|0037\", '\\\\'.join(map(str, (direction[0], direction[3], direction[6],# Image Orientation (Patient)\n",
    "                                                        direction[1],direction[4],direction[7])))),\n",
    "                    (\"0008|103e\", \"Created-Pycad\")] # Series Description\n",
    "\n",
    "    # Write slices to output directory\n",
    "    list(map(lambda i: writeSlices(series_tag_values, new_img, i, out_dir), range(new_img.GetDepth())))\n",
    "\n",
    "def nifti2dicom_mfiles(nifti_dir, out_dir=''):\n",
    "    \"\"\"\n",
    "    This function is to convert multiple nifti files into dicom files\n",
    "\n",
    "    `nifti_dir`: You enter the global path to all of the nifti files here.\n",
    "    `out_dir`: Put the path to where you want to save all the dicoms here.\n",
    "\n",
    "    PS: Each nifti file's folders will be created automatically, so you do not need to create an empty folder for each patient.\n",
    "    \"\"\"\n",
    "\n",
    "    images = glob(nifti_dir + '/*.nii.gz')\n",
    "\n",
    "    for image in images:\n",
    "        o_path = out_dir + '/' + os.path.basename(image)[:-7]\n",
    "        os.makedirs(o_path, exist_ok=True)\n",
    "\n",
    "        nifti2dicom_1file(image, o_path)"
   ]
  },
  {
   "cell_type": "code",
   "execution_count": 12,
   "id": "e3550a3e-5e81-4c78-993e-04cc426748eb",
   "metadata": {},
   "outputs": [],
   "source": [
    "nifti_folder = r'E:\\Medical imaging\\Liver segmentation\\large set\\volume_pt6'\n",
    "output_folder = r'E:\\Medical imaging\\Liver segmentation\\large set\\dcom files\\images'\n",
    "patient_list=glob(nifti_folder + '/*') \n",
    "for patient in patient_list: \n",
    "    patient_name = os.path.basename(os.path.normpath(patient))\n",
    "    output_path_name = os.path.join(output_folder, patient_name)\n",
    "    os.mkdir(output_path_name)\n",
    "    nifti2dicom_1file(patient, output_path_name)\n"
   ]
  },
  {
   "cell_type": "code",
   "execution_count": 9,
   "id": "b48eb4bf-3679-44c6-9ddf-fe1559ae8858",
   "metadata": {},
   "outputs": [
    {
     "ename": "RuntimeError",
     "evalue": "Exception thrown in SimpleITK ImageFileWriter_Execute: D:\\a\\SimpleITK\\SimpleITK\\bld\\ITK\\Modules\\IO\\GDCM\\src\\itkGDCMImageIO.cxx:1229:\nITK ERROR: GDCMImageIO(00000291E1A3C5F0): A Floating point buffer was passed but the stored pixel type was not specified.This is currently not supported",
     "output_type": "error",
     "traceback": [
      "\u001b[1;31m---------------------------------------------------------------------------\u001b[0m",
      "\u001b[1;31mRuntimeError\u001b[0m                              Traceback (most recent call last)",
      "\u001b[1;32m~\\AppData\\Local\\Temp\\ipykernel_8376\\2060148105.py\u001b[0m in \u001b[0;36m?\u001b[1;34m()\u001b[0m\n\u001b[0;32m      4\u001b[0m \u001b[0mnifti_folder\u001b[0m \u001b[1;33m=\u001b[0m \u001b[1;34mr'E:\\Medical imaging\\Liver segmentation\\large set\\segmentations - Copy - Copy'\u001b[0m\u001b[1;33m\u001b[0m\u001b[1;33m\u001b[0m\u001b[0m\n\u001b[0;32m      5\u001b[0m \u001b[0moutput_folder\u001b[0m \u001b[1;33m=\u001b[0m \u001b[1;34mr'E:\\Medical imaging\\Liver segmentation\\large set\\dcom files\\dup label'\u001b[0m\u001b[1;33m\u001b[0m\u001b[1;33m\u001b[0m\u001b[0m\n\u001b[0;32m      6\u001b[0m \u001b[0mpatient_list\u001b[0m\u001b[1;33m=\u001b[0m\u001b[0mglob\u001b[0m\u001b[1;33m(\u001b[0m\u001b[0mnifti_folder\u001b[0m \u001b[1;33m+\u001b[0m \u001b[1;34m'/*'\u001b[0m\u001b[1;33m)\u001b[0m\u001b[1;33m\u001b[0m\u001b[1;33m\u001b[0m\u001b[0m\n\u001b[0;32m      7\u001b[0m \u001b[1;32mfor\u001b[0m \u001b[0mpatient\u001b[0m \u001b[1;32min\u001b[0m \u001b[0mpatient_list\u001b[0m\u001b[1;33m:\u001b[0m\u001b[1;33m\u001b[0m\u001b[1;33m\u001b[0m\u001b[0m\n\u001b[1;32m----> 8\u001b[1;33m     \u001b[0mpatient_name\u001b[0m \u001b[1;33m=\u001b[0m \u001b[0mos\u001b[0m\u001b[1;33m.\u001b[0m\u001b[0mpath\u001b[0m\u001b[1;33m.\u001b[0m\u001b[0mbasename\u001b[0m\u001b[1;33m(\u001b[0m\u001b[0mos\u001b[0m\u001b[1;33m.\u001b[0m\u001b[0mpath\u001b[0m\u001b[1;33m.\u001b[0m\u001b[0mnormpath\u001b[0m\u001b[1;33m(\u001b[0m\u001b[0mpatient\u001b[0m\u001b[1;33m)\u001b[0m\u001b[1;33m)\u001b[0m\u001b[1;33m\u001b[0m\u001b[1;33m\u001b[0m\u001b[0m\n\u001b[0m\u001b[0;32m      9\u001b[0m     \u001b[0moutput_path_name\u001b[0m \u001b[1;33m=\u001b[0m \u001b[0mos\u001b[0m\u001b[1;33m.\u001b[0m\u001b[0mpath\u001b[0m\u001b[1;33m.\u001b[0m\u001b[0mjoin\u001b[0m\u001b[1;33m(\u001b[0m\u001b[0moutput_folder\u001b[0m\u001b[1;33m,\u001b[0m \u001b[0mpatient_name\u001b[0m\u001b[1;33m)\u001b[0m\u001b[1;33m\u001b[0m\u001b[1;33m\u001b[0m\u001b[0m\n\u001b[0;32m     10\u001b[0m     \u001b[0mos\u001b[0m\u001b[1;33m.\u001b[0m\u001b[0mmkdir\u001b[0m\u001b[1;33m(\u001b[0m\u001b[0moutput_path_name\u001b[0m\u001b[1;33m)\u001b[0m\u001b[1;33m\u001b[0m\u001b[1;33m\u001b[0m\u001b[0m\n\u001b[0;32m     11\u001b[0m     \u001b[0mnifti2dicom_1file\u001b[0m\u001b[1;33m(\u001b[0m\u001b[0mpatient\u001b[0m\u001b[1;33m,\u001b[0m \u001b[0moutput_path_name\u001b[0m\u001b[1;33m)\u001b[0m\u001b[1;33m\u001b[0m\u001b[1;33m\u001b[0m\u001b[0m\n",
      "\u001b[1;32m~\\AppData\\Local\\Temp\\ipykernel_8376\\396616293.py\u001b[0m in \u001b[0;36m?\u001b[1;34m(in_dir, out_dir)\u001b[0m\n\u001b[0;32m     52\u001b[0m                                                         direction[1],direction[4],direction[7])))),\n\u001b[0;32m     53\u001b[0m                     (\"0008|103e\", \"Created-Pycad\")] # Series Description\n\u001b[0;32m     54\u001b[0m \u001b[1;33m\u001b[0m\u001b[0m\n\u001b[0;32m     55\u001b[0m     \u001b[1;31m# Write slices to output directory\u001b[0m\u001b[1;33m\u001b[0m\u001b[1;33m\u001b[0m\u001b[1;33m\u001b[0m\u001b[0m\n\u001b[1;32m---> 56\u001b[1;33m     \u001b[0mlist\u001b[0m\u001b[1;33m(\u001b[0m\u001b[0mmap\u001b[0m\u001b[1;33m(\u001b[0m\u001b[1;32mlambda\u001b[0m \u001b[0mi\u001b[0m\u001b[1;33m:\u001b[0m \u001b[0mwriteSlices\u001b[0m\u001b[1;33m(\u001b[0m\u001b[0mseries_tag_values\u001b[0m\u001b[1;33m,\u001b[0m \u001b[0mnew_img\u001b[0m\u001b[1;33m,\u001b[0m \u001b[0mi\u001b[0m\u001b[1;33m,\u001b[0m \u001b[0mout_dir\u001b[0m\u001b[1;33m)\u001b[0m\u001b[1;33m,\u001b[0m \u001b[0mrange\u001b[0m\u001b[1;33m(\u001b[0m\u001b[0mnew_img\u001b[0m\u001b[1;33m.\u001b[0m\u001b[0mGetDepth\u001b[0m\u001b[1;33m(\u001b[0m\u001b[1;33m)\u001b[0m\u001b[1;33m)\u001b[0m\u001b[1;33m)\u001b[0m\u001b[1;33m)\u001b[0m\u001b[1;33m\u001b[0m\u001b[1;33m\u001b[0m\u001b[0m\n\u001b[0m",
      "\u001b[1;32m~\\AppData\\Local\\Temp\\ipykernel_8376\\396616293.py\u001b[0m in \u001b[0;36m?\u001b[1;34m(i)\u001b[0m\n\u001b[1;32m---> 56\u001b[1;33m     \u001b[0mlist\u001b[0m\u001b[1;33m(\u001b[0m\u001b[0mmap\u001b[0m\u001b[1;33m(\u001b[0m\u001b[1;32mlambda\u001b[0m \u001b[0mi\u001b[0m\u001b[1;33m:\u001b[0m \u001b[0mwriteSlices\u001b[0m\u001b[1;33m(\u001b[0m\u001b[0mseries_tag_values\u001b[0m\u001b[1;33m,\u001b[0m \u001b[0mnew_img\u001b[0m\u001b[1;33m,\u001b[0m \u001b[0mi\u001b[0m\u001b[1;33m,\u001b[0m \u001b[0mout_dir\u001b[0m\u001b[1;33m)\u001b[0m\u001b[1;33m,\u001b[0m \u001b[0mrange\u001b[0m\u001b[1;33m(\u001b[0m\u001b[0mnew_img\u001b[0m\u001b[1;33m.\u001b[0m\u001b[0mGetDepth\u001b[0m\u001b[1;33m(\u001b[0m\u001b[1;33m)\u001b[0m\u001b[1;33m)\u001b[0m\u001b[1;33m)\u001b[0m\u001b[1;33m)\u001b[0m\u001b[1;33m\u001b[0m\u001b[1;33m\u001b[0m\u001b[0m\n\u001b[0m",
      "\u001b[1;32m~\\AppData\\Local\\Temp\\ipykernel_8376\\396616293.py\u001b[0m in \u001b[0;36m?\u001b[1;34m(series_tag_values, new_img, i, out_dir)\u001b[0m\n\u001b[0;32m     24\u001b[0m     \u001b[0mimage_slice\u001b[0m\u001b[1;33m.\u001b[0m\u001b[0mSetMetaData\u001b[0m\u001b[1;33m(\u001b[0m\u001b[1;34m\"0020|0013\"\u001b[0m\u001b[1;33m,\u001b[0m \u001b[0mstr\u001b[0m\u001b[1;33m(\u001b[0m\u001b[0mi\u001b[0m\u001b[1;33m)\u001b[0m\u001b[1;33m)\u001b[0m \u001b[1;31m# Instance Number\u001b[0m\u001b[1;33m\u001b[0m\u001b[1;33m\u001b[0m\u001b[0m\n\u001b[0;32m     25\u001b[0m \u001b[1;33m\u001b[0m\u001b[0m\n\u001b[0;32m     26\u001b[0m     \u001b[1;31m# Write to the output directory and add the extension dcm, to force writing in DICOM format.\u001b[0m\u001b[1;33m\u001b[0m\u001b[1;33m\u001b[0m\u001b[1;33m\u001b[0m\u001b[0m\n\u001b[0;32m     27\u001b[0m     \u001b[0mwriter\u001b[0m\u001b[1;33m.\u001b[0m\u001b[0mSetFileName\u001b[0m\u001b[1;33m(\u001b[0m\u001b[0mos\u001b[0m\u001b[1;33m.\u001b[0m\u001b[0mpath\u001b[0m\u001b[1;33m.\u001b[0m\u001b[0mjoin\u001b[0m\u001b[1;33m(\u001b[0m\u001b[0mout_dir\u001b[0m\u001b[1;33m,\u001b[0m\u001b[1;34m'slice'\u001b[0m \u001b[1;33m+\u001b[0m \u001b[0mstr\u001b[0m\u001b[1;33m(\u001b[0m\u001b[0mi\u001b[0m\u001b[1;33m)\u001b[0m\u001b[1;33m.\u001b[0m\u001b[0mzfill\u001b[0m\u001b[1;33m(\u001b[0m\u001b[1;36m4\u001b[0m\u001b[1;33m)\u001b[0m \u001b[1;33m+\u001b[0m \u001b[1;34m'.dcm'\u001b[0m\u001b[1;33m)\u001b[0m\u001b[1;33m)\u001b[0m\u001b[1;33m\u001b[0m\u001b[1;33m\u001b[0m\u001b[0m\n\u001b[1;32m---> 28\u001b[1;33m     \u001b[0mwriter\u001b[0m\u001b[1;33m.\u001b[0m\u001b[0mExecute\u001b[0m\u001b[1;33m(\u001b[0m\u001b[0mimage_slice\u001b[0m\u001b[1;33m)\u001b[0m\u001b[1;33m\u001b[0m\u001b[1;33m\u001b[0m\u001b[0m\n\u001b[0m",
      "\u001b[1;32m~\\anaconda3\\envs\\Liver_Segmentation\\lib\\site-packages\\SimpleITK\\SimpleITK.py\u001b[0m in \u001b[0;36m?\u001b[1;34m(self, *args)\u001b[0m\n\u001b[0;32m   7935\u001b[0m         \u001b[0mExecute\u001b[0m\u001b[1;33m(\u001b[0m\u001b[0mImageFileWriter\u001b[0m \u001b[0mself\u001b[0m\u001b[1;33m,\u001b[0m \u001b[0mImage\u001b[0m \u001b[0marg2\u001b[0m\u001b[1;33m,\u001b[0m \u001b[0mitk\u001b[0m\u001b[1;33m:\u001b[0m\u001b[1;33m:\u001b[0m\u001b[0msimple\u001b[0m\u001b[1;33m:\u001b[0m\u001b[1;33m:\u001b[0m\u001b[0mPathType\u001b[0m \u001b[0mconst\u001b[0m \u001b[1;33m&\u001b[0m \u001b[0minFileName\u001b[0m\u001b[1;33m,\u001b[0m \u001b[0mbool\u001b[0m \u001b[0museCompression\u001b[0m\u001b[1;33m,\u001b[0m \u001b[0mint\u001b[0m \u001b[0mcompressionLevel\u001b[0m\u001b[1;33m)\u001b[0m\u001b[1;33m\u001b[0m\u001b[1;33m\u001b[0m\u001b[0m\n\u001b[0;32m   7936\u001b[0m \u001b[1;33m\u001b[0m\u001b[0m\n\u001b[0;32m   7937\u001b[0m \u001b[1;33m\u001b[0m\u001b[0m\n\u001b[0;32m   7938\u001b[0m         \"\"\"\n\u001b[1;32m-> 7939\u001b[1;33m         \u001b[1;32mreturn\u001b[0m \u001b[0m_SimpleITK\u001b[0m\u001b[1;33m.\u001b[0m\u001b[0mImageFileWriter_Execute\u001b[0m\u001b[1;33m(\u001b[0m\u001b[0mself\u001b[0m\u001b[1;33m,\u001b[0m \u001b[1;33m*\u001b[0m\u001b[0margs\u001b[0m\u001b[1;33m)\u001b[0m\u001b[1;33m\u001b[0m\u001b[1;33m\u001b[0m\u001b[0m\n\u001b[0m",
      "\u001b[1;31mRuntimeError\u001b[0m: Exception thrown in SimpleITK ImageFileWriter_Execute: D:\\a\\SimpleITK\\SimpleITK\\bld\\ITK\\Modules\\IO\\GDCM\\src\\itkGDCMImageIO.cxx:1229:\nITK ERROR: GDCMImageIO(00000291E1A3C5F0): A Floating point buffer was passed but the stored pixel type was not specified.This is currently not supported"
     ]
    }
   ],
   "source": [
    "nifti_folder = r'E:\\Medical imaging\\Liver segmentation\\large set\\segmentations - Copy - Copy'\n",
    "output_folder = r'E:\\Medical imaging\\Liver segmentation\\large set\\dcom files\\dup label'\n",
    "patient_list=glob(nifti_folder + '/*') \n",
    "for patient in patient_list: \n",
    "    patient_name = os.path.basename(os.path.normpath(patient))\n",
    "    output_path_name = os.path.join(output_folder, patient_name) \n",
    "    os.mkdir(output_path_name)\n",
    "    nifti2dicom_1file(patient, output_path_name)"
   ]
  },
  {
   "cell_type": "code",
   "execution_count": 10,
   "id": "3f754072-9488-49cc-8943-2666507cd3cf",
   "metadata": {},
   "outputs": [
    {
     "name": "stdout",
     "output_type": "stream",
     "text": [
      "Conversion complete!\n"
     ]
    }
   ],
   "source": [
    "import os\n",
    "import SimpleITK as sitk\n",
    "from glob import glob\n",
    "\n",
    "# Function to convert a NIfTI file to DICOM format\n",
    "def nifti2dicom_1file(nifti_file, output_folder):\n",
    "    # Read the NIfTI image\n",
    "    new_img = sitk.ReadImage(nifti_file)\n",
    "\n",
    "    # Rescale and cast the image to an integer type (e.g., int16)\n",
    "    rescaled_img = sitk.Cast(sitk.RescaleIntensity(new_img), sitk.sitkInt16)\n",
    "\n",
    "    # Write slices to output directory\n",
    "    for i in range(rescaled_img.GetDepth()):\n",
    "        slice_img = rescaled_img[:, :, i]\n",
    "\n",
    "        # Set up DICOM writer\n",
    "        writer = sitk.ImageFileWriter()\n",
    "        writer.SetFileName(os.path.join(output_folder, f'slice{i:04d}.dcm'))\n",
    "        \n",
    "        # Write the DICOM slice\n",
    "        writer.Execute(slice_img)\n",
    "\n",
    "# Paths to the NIfTI files and the output directory\n",
    "nifti_folder = r'E:\\Medical imaging\\Liver segmentation\\large set\\segmentations - Copy'\n",
    "output_folder = r'E:\\Medical imaging\\Liver segmentation\\large set\\dcom files\\dup label'\n",
    "\n",
    "# Create the output folder if it doesn't exist\n",
    "os.makedirs(output_folder, exist_ok=True)\n",
    "\n",
    "# Get the list of patients (NIfTI files)\n",
    "patient_list = glob(nifti_folder + '/*')\n",
    "\n",
    "# Iterate over each patient's folder, create an output folder, and convert NIfTI to DICOM\n",
    "for patient in patient_list:\n",
    "    patient_name = os.path.basename(os.path.normpath(patient))\n",
    "    output_path_name = os.path.join(output_folder, patient_name)\n",
    "    \n",
    "    # Create a directory for the patient if it doesn't exist\n",
    "    os.makedirs(output_path_name, exist_ok=True)\n",
    "    \n",
    "    # Convert the NIfTI file to DICOM format\n",
    "    nifti2dicom_1file(patient, output_path_name)\n",
    "\n",
    "print(\"Conversion complete!\")\n"
   ]
  },
  {
   "cell_type": "code",
   "execution_count": 6,
   "id": "b9319f19-b340-4c7a-bfdd-8eff3f2205fd",
   "metadata": {},
   "outputs": [
    {
     "ename": "RuntimeError",
     "evalue": "Exception thrown in SimpleITK ImageFileReader_Execute: D:\\a\\SimpleITK\\SimpleITK\\Code\\IO\\src\\sitkImageReaderBase.cxx:96:\nsitk::ERROR: Unable to open \"E:\\Medical imaging\\Liver segmentation\\large set\\try newly\\New folder\\New folder\" for reading.",
     "output_type": "error",
     "traceback": [
      "\u001b[1;31m---------------------------------------------------------------------------\u001b[0m",
      "\u001b[1;31mRuntimeError\u001b[0m                              Traceback (most recent call last)",
      "\u001b[1;32m~\\AppData\\Local\\Temp\\ipykernel_8376\\2549007279.py\u001b[0m in \u001b[0;36m?\u001b[1;34m()\u001b[0m\n\u001b[1;32m----> 3\u001b[1;33m \u001b[0mindir\u001b[0m\u001b[1;33m=\u001b[0m\u001b[1;34mr'E:\\Medical imaging\\Liver segmentation\\large set\\try newly\\New folder\\New folder'\u001b[0m\u001b[1;33m\u001b[0m\u001b[1;33m\u001b[0m\u001b[0m\n\u001b[0m\u001b[0;32m      4\u001b[0m \u001b[0moutdir\u001b[0m\u001b[1;33m=\u001b[0m\u001b[1;34mr'E:\\Medical imaging\\Liver segmentation\\large set\\try newly\\New folder\\1'\u001b[0m\u001b[1;33m\u001b[0m\u001b[1;33m\u001b[0m\u001b[0m\n\u001b[0;32m      5\u001b[0m \u001b[0mnifti2dicom_1file\u001b[0m\u001b[1;33m(\u001b[0m\u001b[0mindir\u001b[0m\u001b[1;33m,\u001b[0m\u001b[0moutdir\u001b[0m\u001b[1;33m)\u001b[0m\u001b[1;33m\u001b[0m\u001b[1;33m\u001b[0m\u001b[0m\n",
      "\u001b[1;32m~\\AppData\\Local\\Temp\\ipykernel_8376\\396616293.py\u001b[0m in \u001b[0;36m?\u001b[1;34m(in_dir, out_dir)\u001b[0m\n\u001b[0;32m     37\u001b[0m     \"\"\"\n\u001b[0;32m     38\u001b[0m \u001b[1;33m\u001b[0m\u001b[0m\n\u001b[0;32m     39\u001b[0m     \u001b[0mos\u001b[0m\u001b[1;33m.\u001b[0m\u001b[0mmakedirs\u001b[0m\u001b[1;33m(\u001b[0m\u001b[0mout_dir\u001b[0m\u001b[1;33m,\u001b[0m \u001b[0mexist_ok\u001b[0m\u001b[1;33m=\u001b[0m\u001b[1;32mTrue\u001b[0m\u001b[1;33m)\u001b[0m\u001b[1;33m\u001b[0m\u001b[1;33m\u001b[0m\u001b[0m\n\u001b[0;32m     40\u001b[0m \u001b[1;33m\u001b[0m\u001b[0m\n\u001b[1;32m---> 41\u001b[1;33m     \u001b[0mnew_img\u001b[0m \u001b[1;33m=\u001b[0m \u001b[0msitk\u001b[0m\u001b[1;33m.\u001b[0m\u001b[0mReadImage\u001b[0m\u001b[1;33m(\u001b[0m\u001b[0min_dir\u001b[0m\u001b[1;33m)\u001b[0m\u001b[1;33m\u001b[0m\u001b[1;33m\u001b[0m\u001b[0m\n\u001b[0m\u001b[0;32m     42\u001b[0m     \u001b[0mmodification_time\u001b[0m \u001b[1;33m=\u001b[0m \u001b[0mtime\u001b[0m\u001b[1;33m.\u001b[0m\u001b[0mstrftime\u001b[0m\u001b[1;33m(\u001b[0m\u001b[1;34m\"%H%M%S\"\u001b[0m\u001b[1;33m)\u001b[0m\u001b[1;33m\u001b[0m\u001b[1;33m\u001b[0m\u001b[0m\n\u001b[0;32m     43\u001b[0m     \u001b[0mmodification_date\u001b[0m \u001b[1;33m=\u001b[0m \u001b[0mtime\u001b[0m\u001b[1;33m.\u001b[0m\u001b[0mstrftime\u001b[0m\u001b[1;33m(\u001b[0m\u001b[1;34m\"%Y%m%d\"\u001b[0m\u001b[1;33m)\u001b[0m\u001b[1;33m\u001b[0m\u001b[1;33m\u001b[0m\u001b[0m\n\u001b[0;32m     44\u001b[0m \u001b[1;33m\u001b[0m\u001b[0m\n",
      "\u001b[1;32m~\\anaconda3\\envs\\Liver_Segmentation\\lib\\site-packages\\SimpleITK\\extra.py\u001b[0m in \u001b[0;36m?\u001b[1;34m(fileName, outputPixelType, imageIO)\u001b[0m\n\u001b[0;32m    380\u001b[0m         \u001b[0mreader\u001b[0m\u001b[1;33m.\u001b[0m\u001b[0mSetFileNames\u001b[0m\u001b[1;33m(\u001b[0m\u001b[0mfileName\u001b[0m\u001b[1;33m)\u001b[0m\u001b[1;33m\u001b[0m\u001b[1;33m\u001b[0m\u001b[0m\n\u001b[0;32m    381\u001b[0m \u001b[1;33m\u001b[0m\u001b[0m\n\u001b[0;32m    382\u001b[0m     \u001b[0mreader\u001b[0m\u001b[1;33m.\u001b[0m\u001b[0mSetImageIO\u001b[0m\u001b[1;33m(\u001b[0m\u001b[0mimageIO\u001b[0m\u001b[1;33m)\u001b[0m\u001b[1;33m\u001b[0m\u001b[1;33m\u001b[0m\u001b[0m\n\u001b[0;32m    383\u001b[0m     \u001b[0mreader\u001b[0m\u001b[1;33m.\u001b[0m\u001b[0mSetOutputPixelType\u001b[0m\u001b[1;33m(\u001b[0m\u001b[0moutputPixelType\u001b[0m\u001b[1;33m)\u001b[0m\u001b[1;33m\u001b[0m\u001b[1;33m\u001b[0m\u001b[0m\n\u001b[1;32m--> 384\u001b[1;33m     \u001b[1;32mreturn\u001b[0m \u001b[0mreader\u001b[0m\u001b[1;33m.\u001b[0m\u001b[0mExecute\u001b[0m\u001b[1;33m(\u001b[0m\u001b[1;33m)\u001b[0m\u001b[1;33m\u001b[0m\u001b[1;33m\u001b[0m\u001b[0m\n\u001b[0m",
      "\u001b[1;32m~\\anaconda3\\envs\\Liver_Segmentation\\lib\\site-packages\\SimpleITK\\SimpleITK.py\u001b[0m in \u001b[0;36m?\u001b[1;34m(self)\u001b[0m\n\u001b[0;32m   8498\u001b[0m         \u001b[0mtype\u001b[0m \u001b[0mto\u001b[0m \u001b[0mbe\u001b[0m \u001b[0msame\u001b[0m \u001b[1;32mas\u001b[0m \u001b[0mthe\u001b[0m \u001b[0mfile\u001b[0m\u001b[1;33m.\u001b[0m \u001b[0mIf\u001b[0m \u001b[0mthe\u001b[0m \u001b[0mpixel\u001b[0m \u001b[0mtype\u001b[0m \u001b[1;32mis\u001b[0m \u001b[0mspecified\u001b[0m \u001b[0mthen\u001b[0m \u001b[0mthe\u001b[0m \u001b[0mitk\u001b[0m\u001b[1;33m:\u001b[0m\u001b[1;33m:\u001b[0m\u001b[0mConvertPixelBuffer\u001b[0m \u001b[0mwill\u001b[0m \u001b[0mbe\u001b[0m \u001b[0mused\u001b[0m \u001b[0mto\u001b[0m \u001b[0mconvert\u001b[0m \u001b[0mthe\u001b[0m \u001b[0mpixels\u001b[0m\u001b[1;33m.\u001b[0m\u001b[1;33m\u001b[0m\u001b[1;33m\u001b[0m\u001b[0m\n\u001b[0;32m   8499\u001b[0m \u001b[1;33m\u001b[0m\u001b[0m\n\u001b[0;32m   8500\u001b[0m \u001b[1;33m\u001b[0m\u001b[0m\n\u001b[0;32m   8501\u001b[0m         \"\"\"\n\u001b[1;32m-> 8502\u001b[1;33m         \u001b[1;32mreturn\u001b[0m \u001b[0m_SimpleITK\u001b[0m\u001b[1;33m.\u001b[0m\u001b[0mImageFileReader_Execute\u001b[0m\u001b[1;33m(\u001b[0m\u001b[0mself\u001b[0m\u001b[1;33m)\u001b[0m\u001b[1;33m\u001b[0m\u001b[1;33m\u001b[0m\u001b[0m\n\u001b[0m",
      "\u001b[1;31mRuntimeError\u001b[0m: Exception thrown in SimpleITK ImageFileReader_Execute: D:\\a\\SimpleITK\\SimpleITK\\Code\\IO\\src\\sitkImageReaderBase.cxx:96:\nsitk::ERROR: Unable to open \"E:\\Medical imaging\\Liver segmentation\\large set\\try newly\\New folder\\New folder\" for reading."
     ]
    }
   ],
   "source": [
    "indir=r'E:\\Medical imaging\\Liver segmentation\\large set\\try newly\\New folder\\New folder'\n",
    "outdir=r'E:\\Medical imaging\\Liver segmentation\\large set\\try newly\\New folder\\1'\n",
    "nifti2dicom_1file(indir,outdir)"
   ]
  },
  {
   "cell_type": "code",
   "execution_count": null,
   "id": "f8737b1f-018a-48aa-8b63-780d9ab112f5",
   "metadata": {},
   "outputs": [],
   "source": []
  }
 ],
 "metadata": {
  "kernelspec": {
   "display_name": "Python 3 (ipykernel)",
   "language": "python",
   "name": "python3"
  },
  "language_info": {
   "codemirror_mode": {
    "name": "ipython",
    "version": 3
   },
   "file_extension": ".py",
   "mimetype": "text/x-python",
   "name": "python",
   "nbconvert_exporter": "python",
   "pygments_lexer": "ipython3",
   "version": "3.10.9"
  }
 },
 "nbformat": 4,
 "nbformat_minor": 5
}
