{
 "cells": [
  {
   "cell_type": "markdown",
   "id": "bc8c5fc8-84aa-4b14-910c-320b36414085",
   "metadata": {},
   "source": [
    "# Create groups of 64 slices"
   ]
  },
  {
   "cell_type": "code",
   "execution_count": 12,
   "id": "9467284a-b84c-432b-8e0c-cfadaadd4e3c",
   "metadata": {},
   "outputs": [],
   "source": [
    "in_path='E:\\Medical imaging\\Liver segmentation\\large set\\dcom files\\dup label'\n",
    "out_path='E:\\Medical imaging\\Liver segmentation\\large set\\dcom files\\groups\\dup_label'"
   ]
  },
  {
   "cell_type": "code",
   "execution_count": 13,
   "id": "2df7b359-a082-4d55-ab70-6323fd0b59c5",
   "metadata": {},
   "outputs": [],
   "source": [
    "from glob import glob\n",
    "import shutil\n",
    "import os"
   ]
  },
  {
   "cell_type": "code",
   "execution_count": 10,
   "id": "8fcb6107-6289-487b-9fa9-d3a7a4e7d430",
   "metadata": {},
   "outputs": [
    {
     "name": "stdout",
     "output_type": "stream",
     "text": [
      "88\n"
     ]
    }
   ],
   "source": [
    "patient_list=glob(in_path + '/*') \n",
    "#print(patient_list)\n",
    "print(len(patient_list[0]))"
   ]
  },
  {
   "cell_type": "code",
   "execution_count": 14,
   "id": "670adfda-99df-4189-9e81-5b642272952d",
   "metadata": {},
   "outputs": [],
   "source": [
    "for patient in glob(in_path + '/*'):  # return a list of all inputs in the directory (/* means everything, /*.nill gives only nill files)\n",
    "    patient_name = os.path.basename(os.path.normpath(patient))\n",
    "    number_folders = int(len(glob(patient + '/*')) / 86)  # to know how many slices there are in one patient image\n",
    "    \n",
    "    for i in range(number_folders):\n",
    "        output_path_name = os.path.join(out_path, patient_name + '_' + str(i))\n",
    "        os.mkdir(output_path_name)  # create the folders\n",
    "        \n",
    "        for j, file in enumerate(glob(patient + '/*')):\n",
    "            if j == 86:  # ensure only 86 files per folder\n",
    "                break\n",
    "            shutil.move(file, output_path_name)  # move files\n"
   ]
  },
  {
   "cell_type": "code",
   "execution_count": 17,
   "id": "eb4f0a2c-d77d-4d81-baad-fa680e76925c",
   "metadata": {},
   "outputs": [],
   "source": [
    "in_path='E:\\Medical imaging\\Liver segmentation\\large set\\dcom files\\images'\n",
    "out_path='E:\\Medical imaging\\Liver segmentation\\large set\\dcom files\\groups\\images'"
   ]
  },
  {
   "cell_type": "code",
   "execution_count": 18,
   "id": "a17a5bbd-e916-46b7-b927-d81babea161c",
   "metadata": {},
   "outputs": [],
   "source": [
    "for patient in glob(in_path + '/*'):  # return a list of all inputs in the directory (/* means everything, /*.nill gives only nill files)\n",
    "    patient_name = os.path.basename(os.path.normpath(patient))\n",
    "    number_folders = int(len(glob(patient + '/*')) / 86)  # to know how many slices there are in one patient image\n",
    "    \n",
    "    for i in range(number_folders):\n",
    "        output_path_name = os.path.join(out_path, patient_name + '_' + str(i))\n",
    "        os.mkdir(output_path_name)  # create the folders\n",
    "        \n",
    "        for j, file in enumerate(glob(patient + '/*')):\n",
    "            if j == 86:  # ensure only 86 files per folder\n",
    "                break\n",
    "            shutil.move(file, output_path_name)  # move files\n"
   ]
  },
  {
   "cell_type": "markdown",
   "id": "12f16cf7-2700-4208-8df5-908001698923",
   "metadata": {},
   "source": [
    "# Convert dicom files into nifties"
   ]
  },
  {
   "cell_type": "code",
   "execution_count": 19,
   "id": "65c60feb-9cf7-4ce2-b459-2758035135a7",
   "metadata": {},
   "outputs": [],
   "source": [
    "import dicom2nifti\n",
    "in_path_images = 'E:\\Medical imaging\\Liver segmentation\\large set\\dcom files\\groups\\images'\n",
    "in_path_labels = 'E:\\Medical imaging\\Liver segmentation\\large set\\dcom files\\groups\\dup_label'\n",
    "out_path_images = r'E:\\Medical imaging\\Liver segmentation\\large set\\dcom files\\final nifti files\\images'\n",
    "out_path_labels = r'E:\\Medical imaging\\Liver segmentation\\large set\\dcom files\\final nifti files\\dup_label'\n",
    "\n",
    "list_images=glob(in_path_images +'/*')\n",
    "list_labels=glob(in_path_labels +'/*')"
   ]
  },
  {
   "cell_type": "code",
   "execution_count": 20,
   "id": "dad5f9a8-3714-4e5f-bef9-965eb8829512",
   "metadata": {},
   "outputs": [],
   "source": [
    "for patient in list_images:\n",
    "    patient_name = os.path.basename(os.path.normpath(patient))\n",
    "    dicom2nifti.dicom_series_to_nifti(patient, os.path.join(out_path_images, patient_name + '.nii.gz'))  # Close the parentheses"
   ]
  },
  {
   "cell_type": "code",
   "execution_count": 16,
   "id": "28b761af-018b-4a18-8c7b-f72af6c88c51",
   "metadata": {},
   "outputs": [],
   "source": [
    "for patient in list_labels:\n",
    "    patient_name = os.path.basename(os.path.normpath(patient))\n",
    "    dicom2nifti.dicom_series_to_nifti(patient, os.path.join(out_path_labels, patient_name + '.nii.gz'))  # Close the parentheses"
   ]
  },
  {
   "cell_type": "code",
   "execution_count": 2,
   "id": "87fb9624-5431-41e5-a3a6-166a9b3a38e3",
   "metadata": {},
   "outputs": [
    {
     "name": "stdout",
     "output_type": "stream",
     "text": [
      "Collecting pydicom\n",
      "  Downloading pydicom-3.0.1-py3-none-any.whl (2.4 MB)\n",
      "     ---------------------------------------- 2.4/2.4 MB 1.6 MB/s eta 0:00:00\n",
      "Installing collected packages: pydicom\n",
      "Successfully installed pydicom-3.0.1\n"
     ]
    }
   ],
   "source": [
    "!pip install pydicom"
   ]
  },
  {
   "cell_type": "markdown",
   "id": "57488702-ec22-4f55-8109-0ffafa33ef6c",
   "metadata": {},
   "source": [
    "# Find empty"
   ]
  },
  {
   "cell_type": "code",
   "execution_count": 39,
   "id": "54f96e9d-6486-4c7c-bfa7-6e914bdd62c1",
   "metadata": {},
   "outputs": [
    {
     "name": "stdout",
     "output_type": "stream",
     "text": [
      "Requirement already satisfied: nibabel in c:\\users\\lenovo\\anaconda3\\envs\\liver_segmentation\\lib\\site-packages (5.2.1)\n",
      "Requirement already satisfied: importlib-resources>=1.3 in c:\\users\\lenovo\\anaconda3\\envs\\liver_segmentation\\lib\\site-packages (from nibabel) (6.4.0)\n",
      "Requirement already satisfied: numpy>=1.20 in c:\\users\\lenovo\\anaconda3\\envs\\liver_segmentation\\lib\\site-packages (from nibabel) (1.24.4)\n",
      "Requirement already satisfied: packaging>=17 in c:\\users\\lenovo\\anaconda3\\envs\\liver_segmentation\\lib\\site-packages (from nibabel) (24.1)\n",
      "Requirement already satisfied: zipp>=3.1.0 in c:\\users\\lenovo\\anaconda3\\envs\\liver_segmentation\\lib\\site-packages (from importlib-resources>=1.3->nibabel) (3.17.0)\n"
     ]
    }
   ],
   "source": [
    "!pip install nibabel"
   ]
  },
  {
   "cell_type": "code",
   "execution_count": 7,
   "id": "340b95cf-bcf3-4cc0-8d38-a184d1dc3da6",
   "metadata": {},
   "outputs": [],
   "source": [
    "import nibabel as nib\n",
    "import numpy as np\n",
    "\n",
    "input_nifti_file_path= r'E:\\Medical imaging\\Liver segmentation\\large set\\dcom files\\final nifti files\\images\\*'\n",
    "list_labels = glob(input_nifti_file_path)\n",
    "for patient in list_labels:\n",
    "    nifti_file = nib.load(patient)\n",
    "    fdata= nifti_file.get_fdata() #frame data\n",
    "    np_unique =np.unique(fdata)\n",
    "    if len(np_unique)==1: #if only have 0 s then we should remove that from data set\n",
    "        print(patient)\n",
    "        \n",
    "    "
   ]
  },
  {
   "cell_type": "code",
   "execution_count": null,
   "id": "f0f38aeb-69f7-4d7d-9ca4-1bd400c2e18a",
   "metadata": {},
   "outputs": [],
   "source": []
  }
 ],
 "metadata": {
  "kernelspec": {
   "display_name": "Python 3 (ipykernel)",
   "language": "python",
   "name": "python3"
  },
  "language_info": {
   "codemirror_mode": {
    "name": "ipython",
    "version": 3
   },
   "file_extension": ".py",
   "mimetype": "text/x-python",
   "name": "python",
   "nbconvert_exporter": "python",
   "pygments_lexer": "ipython3",
   "version": "3.8.19"
  }
 },
 "nbformat": 4,
 "nbformat_minor": 5
}
